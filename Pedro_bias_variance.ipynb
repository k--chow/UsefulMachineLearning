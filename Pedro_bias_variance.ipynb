{
 "cells": [
  {
   "cell_type": "markdown",
   "metadata": {},
   "source": [
    "# A few useful things to know about machine learning - Pedro Domingos\n",
    "\n",
    "<b>\"Even though the true classifier is a set of rules, with up to 1,000 examples naive Bayes is more accurate than a rule learner. This happens despite naive Bayes’s false assumption that the frontier is linear!\"</b>\n",
    "\n",
    "Let's look at how a choice of model and therefore it's inductive bias can affect accuracy/generalization and variance, especially against two different classifiers. We generate a decision tree dataset (a set of rules) and try to tune hyperparameters to see if we can get naive Bayes (linear classifier in some cases) to do better than a rule learner (decision trees). "
   ]
  },
  {
   "cell_type": "markdown",
   "metadata": {},
   "source": [
    "In general just by feel: as data increases, decision tree wins out. But with less data, some cases where Naive Bayes wins out or is on par.\n",
    "\n",
    "In the future may do something more systematic, comparing hyperparameters including {children in tree, chance of node becoming leaf, level_limit of the tree}.\n",
    "\n",
    "In terms of bias, I think naive bayes makes harder assumptions (more bias, less complex model, less variance, less \"powerful\", larger \"building blocks\").  Looking for a more natural dataset that is a set of rules or comes from some decision tree to test on. Welcome to any commentary. "
   ]
  },
  {
   "cell_type": "code",
   "execution_count": 1,
   "metadata": {},
   "outputs": [],
   "source": [
    "import numpy as np\n",
    "import matplotlib.pyplot as plt\n",
    "\n",
    "from sklearn.model_selection import train_test_split\n",
    "from sklearn.model_selection import KFold\n",
    "from sklearn import tree\n",
    "from sklearn.metrics import accuracy_score\n",
    "from sklearn.metrics import confusion_matrix\n",
    "from sklearn.naive_bayes import GaussianNB"
   ]
  },
  {
   "cell_type": "code",
   "execution_count": 2,
   "metadata": {},
   "outputs": [],
   "source": [
    "class BinaryNode:\n",
    "    def __init__(self, value):\n",
    "        self.value = value\n",
    "        self.isLeaf = None\n",
    "        self.truth = None\n",
    "        self.leftNode = None\n",
    "        self.rightNode = None"
   ]
  },
  {
   "cell_type": "code",
   "execution_count": 3,
   "metadata": {},
   "outputs": [],
   "source": [
    "class Node:\n",
    "    def __init__(self, value):\n",
    "        self.value = value\n",
    "        self.isLeaf = None\n",
    "        self.truth = None\n",
    "        self.children = {}"
   ]
  },
  {
   "cell_type": "code",
   "execution_count": 4,
   "metadata": {},
   "outputs": [],
   "source": [
    "# generate decision tree\n",
    "# Generate data based on decision tree\n",
    "# dataset 1-10 features BINARY \n",
    "    # generate 100, 1000, etc\n",
    "# Compare naivebayes"
   ]
  },
  {
   "cell_type": "code",
   "execution_count": 5,
   "metadata": {},
   "outputs": [
    {
     "data": {
      "text/plain": [
       "'\\nchildren = 3\\nhead = Node(-1)\\nlevel_limit = 10\\ngenerateTree(level_limit, 0.25, head, children)\\n'"
      ]
     },
     "execution_count": 5,
     "metadata": {},
     "output_type": "execute_result"
    }
   ],
   "source": [
    "def generateTree(limit, end_chance, node, children):\n",
    "    isLeaf_flip = ((np.random.random() < end_chance) or limit == 1) and node.value != -1 #it's a head\n",
    "    node.isLeaf = isLeaf_flip\n",
    "    if node.isLeaf:\n",
    "        node.truth = np.random.randint(children, size=1)[0]\n",
    "        #print(\"leaf \", node.truth)\n",
    "        return\n",
    "    #child = np.random.randint(children, size=1)[0] + 1\n",
    "    child = children\n",
    "    for i in range(child):\n",
    "        #print(\"i \", i)\n",
    "        node.children[i] = Node(i)\n",
    "        generateTree(limit-1, np.random.random(), node.children[i], children)\n",
    "\"\"\"\n",
    "children = 3\n",
    "head = Node(-1)\n",
    "level_limit = 10\n",
    "generateTree(level_limit, 0.25, head, children)\n",
    "\"\"\""
   ]
  },
  {
   "cell_type": "code",
   "execution_count": 236,
   "metadata": {},
   "outputs": [
    {
     "data": {
      "text/plain": [
       "'\\n# binary\\ndef generateTree2(limit, end_chance, node):\\n    isLeaf_flip = ((np.random.random() < end_chance + np.random.random() - np.random.random()) or limit == 1) and node.value != -1 #it\\'s a head\\n    node.isLeaf = isLeaf_flip\\n    if node.isLeaf:\\n        node.truth = np.random.randint(2, size=1)[0]\\n        print(\"leaf \", node.truth)\\n        return\\n    node.leftNode = Node(0)\\n    node.rightNode = Node(1)\\n    print(\"left\")\\n    generateTree(limit-1, end_chance, node.leftNode)\\n    print(\"right\")\\n    generateTree(limit-1, end_chance, node.rightNode)\\n\\nhead = Node(-1)\\ngenerateTree(5, 0.25, head)\\n'"
      ]
     },
     "execution_count": 236,
     "metadata": {},
     "output_type": "execute_result"
    }
   ],
   "source": [
    "\"\"\"\n",
    "# binary\n",
    "def generateTree2(limit, end_chance, node):\n",
    "    isLeaf_flip = ((np.random.random() < end_chance + np.random.random() - np.random.random()) or limit == 1) and node.value != -1 #it's a head\n",
    "    node.isLeaf = isLeaf_flip\n",
    "    if node.isLeaf:\n",
    "        node.truth = np.random.randint(2, size=1)[0]\n",
    "        print(\"leaf \", node.truth)\n",
    "        return\n",
    "    node.leftNode = Node(0)\n",
    "    node.rightNode = Node(1)\n",
    "    print(\"left\")\n",
    "    generateTree(limit-1, end_chance, node.leftNode)\n",
    "    print(\"right\")\n",
    "    generateTree(limit-1, end_chance, node.rightNode)\n",
    "\n",
    "head = Node(-1)\n",
    "generateTree(5, 0.25, head)\n",
    "\"\"\""
   ]
  },
  {
   "cell_type": "code",
   "execution_count": null,
   "metadata": {},
   "outputs": [],
   "source": [
    "\"\"\"\n",
    "def generateY(x, node):\n",
    "    cur = node\n",
    "    for i in x:\n",
    "        if cur.isLeaf:\n",
    "            #print(\"truth\")\n",
    "            return cur.truth\n",
    "        if i == 0:\n",
    "            #print(\"left\")\n",
    "            cur = cur.leftNode\n",
    "        else:\n",
    "            #print(\"right\")\n",
    "            cur = cur.rightNode\n",
    "\"\"\""
   ]
  },
  {
   "cell_type": "code",
   "execution_count": 6,
   "metadata": {},
   "outputs": [
    {
     "data": {
      "text/plain": [
       "'\\ndata_x = np.random.randint(children, size=(100, level_limit))\\n#generateY([1, 1, 1, -1], head) #-1 denotes end \\ndata_y = [generateY(x, head) for x in data_x]\\n'"
      ]
     },
     "execution_count": 6,
     "metadata": {},
     "output_type": "execute_result"
    }
   ],
   "source": [
    "def generateY(x, node):\n",
    "    cur = node\n",
    "    for i in x:\n",
    "        if cur.isLeaf:\n",
    "            #print(\"truth\")\n",
    "            return cur.truth\n",
    "        if i in cur.children:\n",
    "            #print(\"left\")\n",
    "            cur = cur.children[i]\n",
    "        else: #maybe? now -1, 0, 1\n",
    "            print(\"no\")\n",
    "            return -1\n",
    "            \n",
    "\"\"\"\n",
    "data_x = np.random.randint(children, size=(100, level_limit))\n",
    "#generateY([1, 1, 1, -1], head) #-1 denotes end \n",
    "data_y = [generateY(x, head) for x in data_x]\n",
    "\"\"\""
   ]
  },
  {
   "cell_type": "code",
   "execution_count": null,
   "metadata": {},
   "outputs": [],
   "source": []
  },
  {
   "cell_type": "code",
   "execution_count": 48,
   "metadata": {},
   "outputs": [
    {
     "name": "stdout",
     "output_type": "stream",
     "text": [
      "data_size 5\n",
      "DT average:  0.6475\n",
      "DT std  0.34608023315089487\n",
      "NB average:  0.6808333333333333\n",
      "NB std  0.3410675641765622\n",
      "data_size 10\n",
      "DT average:  0.716\n",
      "DT std  0.27448861542876424\n",
      "NB average:  0.726\n",
      "NB std  0.25084656664981486\n",
      "data_size 15\n",
      "DT average:  0.7933035714285714\n",
      "DT std  0.23888851295091182\n",
      "NB average:  0.7455357142857143\n",
      "NB std  0.22703691093866527\n",
      "data_size 20\n",
      "DT average:  0.7895\n",
      "DT std  0.20479196761591992\n",
      "NB average:  0.8035\n",
      "NB std  0.18530447916874543\n",
      "data_size 25\n",
      "DT average:  0.8413461538461539\n",
      "DT std  0.19053213442148226\n",
      "NB average:  0.8016346153846154\n",
      "NB std  0.19234208827014004\n",
      "data_size 30\n",
      "DT average:  0.8596666666666667\n",
      "DT std  0.17793850373404604\n",
      "NB average:  0.8513333333333333\n",
      "NB std  0.16542336258488066\n",
      "data_size 35\n",
      "DT average:  0.8619771241830065\n",
      "DT std  0.1602717058079832\n",
      "NB average:  0.8428267973856208\n",
      "NB std  0.16605700280124513\n",
      "data_size 40\n",
      "DT average:  0.8845000000000001\n",
      "DT std  0.15283896754427517\n",
      "NB average:  0.8905000000000001\n",
      "NB std  0.13512864241159236\n",
      "data_size 45\n",
      "DT average:  0.8854446640316206\n",
      "DT std  0.14405005043802913\n",
      "NB average:  0.8794861660079052\n",
      "NB std  0.1399247113225343\n",
      "data_size 50\n",
      "DT average:  0.9046\n",
      "DT std  0.13396581653541323\n",
      "NB average:  0.8896000000000001\n",
      "NB std  0.1340590914485101\n",
      "data_size 100\n",
      "DT average:  0.9477000000000001\n",
      "DT std  0.08529191051911078\n",
      "NB average:  0.9212\n",
      "NB std  0.1084184486146154\n",
      "data_size 200\n",
      "DT average:  0.9542\n",
      "DT std  0.08353059319794155\n",
      "NB average:  0.9053999999999999\n",
      "NB std  0.11941457197511532\n",
      "data_size 400\n",
      "DT average:  0.9774249999999999\n",
      "DT std  0.049593289616640675\n",
      "NB average:  0.9198499999999998\n",
      "NB std  0.11715471608091584\n"
     ]
    }
   ],
   "source": [
    "# hyperparameters\n",
    "iterations = 100\n",
    "#data_size = 25\n",
    "data_sizes = [5, 10, 15, 20, 25, 30, 35, 40, 45, 50, 100, 200, 400]\n",
    "# increase children? \n",
    "# get the average here and variance.\n",
    "\n",
    "DT_acc_avg = []\n",
    "DT_acc_std = []\n",
    "\n",
    "NB_acc_avg = []\n",
    "NB_acc_std = []\n",
    "\n",
    "for data_size in data_sizes:\n",
    "    DT_cm = []\n",
    "    DT_acc = []\n",
    "\n",
    "    NB_cm = []\n",
    "    NB_acc = []\n",
    "    print(\"data_size\", data_size)\n",
    "    for it in range(iterations):\n",
    "        #print(\"Iteration\", it)\n",
    "        children = 2\n",
    "        head = Node(-1)\n",
    "        level_limit = 20\n",
    "        generateTree(level_limit, 0.25, head, children)\n",
    "\n",
    "        data_x = np.random.randint(children, size=(data_size, level_limit))\n",
    "        #generateY([1, 1, 1, -1], head) #-1 denotes end \n",
    "        data_y = [generateY(x, head) for x in data_x]\n",
    "\n",
    "        k = 2\n",
    "        kf = KFold(n_splits=k)\n",
    "\n",
    "        for train_index, test_index in kf.split(data_x):\n",
    "            X_train, X_test = np.take(data_x, train_index, 0), np.take(data_x, test_index, 0)\n",
    "            y_train, y_test = np.take(data_y, train_index, 0), np.take(data_y, test_index, 0)\n",
    "            clf = tree.DecisionTreeClassifier()\n",
    "            clf = clf.fit(X_train, y_train)\n",
    "            y_pred_t = clf.predict(X_train)\n",
    "            #print(\"DT\")\n",
    "            #print(\"Train acc: \", accuracy_score(y_pred_t, y_train))\n",
    "            y_pred = clf.predict(X_test)\n",
    "            DT_cm_i = confusion_matrix(y_pred, y_test) \n",
    "            #print(DT_cm_i)\n",
    "            DT_acc_i = accuracy_score(y_pred, y_test)\n",
    "            #print(\"Test acc: \", DT_acc_i)\n",
    "            DT_cm.append(DT_cm_i)\n",
    "            DT_acc.append(DT_acc_i)\n",
    "\n",
    "            #print(\"GNB\")\n",
    "            gnb = GaussianNB()\n",
    "            gnb.fit(X_train, y_train)\n",
    "            y_pred_t = gnb.predict(X_train)\n",
    "            #print(\"Train acc: \", accuracy_score(y_pred_t, y_train))\n",
    "            y_pred = gnb.predict(X_test)\n",
    "            NB_cm_i = confusion_matrix(y_pred, y_test)\n",
    "            #print(NB_cm_i)\n",
    "            NB_acc_i = accuracy_score(y_pred, y_test)\n",
    "            #print(\"Test acc: \", NB_acc_i)\n",
    "            NB_acc.append(NB_acc_i)\n",
    "            NB_cm.append(NB_cm_i)\n",
    "            \n",
    "    DT_acc_avg_i = np.average(DT_acc)\n",
    "    print(\"DT average: \", DT_acc_avg_i)\n",
    "    DT_acc_std_i = np.std(DT_acc)\n",
    "    print(\"DT std \", DT_acc_std_i)\n",
    "    DT_acc_avg.append(DT_acc_avg_i)\n",
    "    DT_acc_std.append(DT_acc_std_i)\n",
    "\n",
    "    NB_acc_avg_i = np.average(NB_acc)\n",
    "    print(\"NB average: \", NB_acc_avg_i)\n",
    "    NB_acc_std_i = np.std(NB_acc)\n",
    "    print(\"NB std \", NB_acc_std_i)\n",
    "    NB_acc_avg.append(NB_acc_avg_i)\n",
    "    NB_acc_std.append(NB_acc_std_i)\n",
    "\n",
    "    "
   ]
  },
  {
   "cell_type": "code",
   "execution_count": 60,
   "metadata": {},
   "outputs": [
    {
     "data": {
      "text/plain": [
       "Text(0.5, 0, 'Data size')"
      ]
     },
     "execution_count": 60,
     "metadata": {},
     "output_type": "execute_result"
    },
    {
     "data": {
      "image/png": "[encoded data removed]",
      "text/plain": [
       "<Figure size 432x288 with 1 Axes>"
      ]
     },
     "metadata": {
      "needs_background": "light"
     },
     "output_type": "display_data"
    }
   ],
   "source": [
    "plt.plot(data_sizes, DT_acc_avg, color='red')\n",
    "plt.plot(data_sizes, NB_acc_avg, color='blue')\n",
    "plt.legend\n",
    "#plt.errorbar(data_sizes, NB_acc_avg, NB_acc_std, color='blue', linestyle='None', marker='^', capsize=3)\n",
    "#plt.errorbar(data_sizes, DT_acc_avg, DT_acc_std, color='red', linestyle='None', marker='^', capsize=3)\n",
    "plt.ylabel(\"Test accuracy\")\n",
    "plt.xlabel(\"Data size\")"
   ]
  },
  {
   "cell_type": "code",
   "execution_count": 63,
   "metadata": {},
   "outputs": [
    {
     "data": {
      "text/plain": [
       "Text(0.5, 0, 'Data size')"
      ]
     },
     "execution_count": 63,
     "metadata": {},
     "output_type": "execute_result"
    },
    {
     "data": {
      "image/png": "[encoded data removed]",
      "text/plain": [
       "<Figure size 432x288 with 1 Axes>"
      ]
     },
     "metadata": {
      "needs_background": "light"
     },
     "output_type": "display_data"
    }
   ],
   "source": [
    "plt.plot(data_sizes, DT_acc_std, color='red')\n",
    "plt.plot(data_sizes, NB_acc_std, color='blue')\n",
    "#plt.errorbar(data_sizes, NB_acc_avg, NB_acc_std, color='blue', linestyle='None', marker='^', capsize=3)\n",
    "#plt.errorbar(data_sizes, DT_acc_avg, DT_acc_std, color='red', linestyle='None', marker='^', capsize=3)\n",
    "plt.ylabel(\"Test accuracy\")\n",
    "plt.xlabel(\"Data size\")"
   ]
  },
  {
   "cell_type": "code",
   "execution_count": 62,
   "metadata": {},
   "outputs": [
    {
     "data": {
      "text/plain": [
       "Text(0.5, 0, 'Data size')"
      ]
     },
     "execution_count": 62,
     "metadata": {},
     "output_type": "execute_result"
    },
    {
     "data": {
      "image/png": "[encoded data removed]",
      "text/plain": [
       "<Figure size 432x288 with 1 Axes>"
      ]
     },
     "metadata": {
      "needs_background": "light"
     },
     "output_type": "display_data"
    }
   ],
   "source": [
    "plt.errorbar(data_sizes, NB_acc_avg, NB_acc_std, color='blue', linestyle='None', marker='^', capsize=3)\n",
    "plt.errorbar(data_sizes, DT_acc_avg, DT_acc_std, color='red', linestyle='None', marker='^', capsize=3)\n",
    "plt.ylabel(\"Test accuracy\")\n",
    "plt.xlabel(\"Data size\")"
   ]
  },
  {
   "cell_type": "code",
   "execution_count": 276,
   "metadata": {},
   "outputs": [
    {
     "name": "stdout",
     "output_type": "stream",
     "text": [
      "[[8 3 2]\n",
      " [1 3 4]\n",
      " [0 1 1]]\n",
      "0.5217391304347826\n"
     ]
    }
   ],
   "source": [
    "\n",
    "\"\"\"\n",
    "clf = tree.DecisionTreeClassifier()\n",
    "clf = clf.fit(X_train, y_train)\n",
    "from sklearn.metrics import confusion_matrix\n",
    "y_pred_t = clf.predict(X_train, y_train)\n",
    "y_pred = clf.predict(X_test, y_test)\n",
    "print(confusion_matrix(y_pred, y_test))\n",
    "print(accuracy_score(y_pred, y_test))\n",
    "#tree.plot_tree(clf.fit(X_train, y_train))\n",
    "\"\"\""
   ]
  },
  {
   "cell_type": "code",
   "execution_count": 277,
   "metadata": {},
   "outputs": [
    {
     "name": "stdout",
     "output_type": "stream",
     "text": [
      "[[9 5 3]\n",
      " [0 2 2]\n",
      " [0 0 2]]\n",
      "0.5652173913043478\n"
     ]
    }
   ],
   "source": [
    "\"\"\"\n",
    "from sklearn.naive_bayes import GaussianNB\n",
    "gnb = GaussianNB()\n",
    "gnb.fit(X_train, y_train)\n",
    "y_pred = gnb.predict(X_test)\n",
    "print(confusion_matrix(y_pred, y_test))\n",
    "print(accuracy_score(y_pred, y_test))\n",
    "\"\"\""
   ]
  },
  {
   "cell_type": "code",
   "execution_count": null,
   "metadata": {},
   "outputs": [],
   "source": [
    "# simulate this 10 - 100 times and get accuracy "
   ]
  },
  {
   "cell_type": "code",
   "execution_count": null,
   "metadata": {},
   "outputs": [],
   "source": [
    "# write some tests for both generateTree and generateData functions!\n",
    "# Is this too easy of a problem? \n"
   ]
  }
 ],
 "metadata": {
  "kernelspec": {
   "display_name": "Python 3",
   "language": "python",
   "name": "python3"
  },
  "language_info": {
   "codemirror_mode": {
    "name": "ipython",
    "version": 3
   },
   "file_extension": ".py",
   "mimetype": "text/x-python",
   "name": "python",
   "nbconvert_exporter": "python",
   "pygments_lexer": "ipython3",
   "version": "3.8.0"
  }
 },
 "nbformat": 4,
 "nbformat_minor": 4
}
